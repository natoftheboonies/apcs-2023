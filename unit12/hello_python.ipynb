{
 "cells": [
  {
   "attachments": {},
   "cell_type": "markdown",
   "metadata": {},
   "source": [
    "## Hello Python!\n",
    "What's this?  This is a [Jupyter Notebook](https://jupyter.org/).  Click the kernel button in the top-right here, and select python.  We're going to play python today!\n",
    "Resource: [Automate the Boring Stuff with Python](https://automatetheboringstuff.com/#toc) is a lovely book where you can learn enough Python to do useful things."
   ]
  },
  {
   "attachments": {},
   "cell_type": "markdown",
   "metadata": {},
   "source": [
    "### Java vs Python\n",
    "Here is some Java (from a [Python for Java Developers course](https://blu3r4y.github.io/python-for-java-developers/#/-syntax-primer/0)):\n",
    "```java\n",
    "// ./java/M03_MaximumValue.java#L5-L15\n",
    "\n",
    "List<Integer> numbers = Arrays.asList(1, -10, 0, -5, -1000, 100, 7);\n",
    "\n",
    "int maximum = numbers.get(0);\n",
    "\n",
    "for (int number : numbers) {\n",
    "    if (number > maximum) {\n",
    "        maximum = number;\n",
    "    }\n",
    "}\n",
    "\n",
    "System.out.println(\"The maximum value is \" + maximum);\n",
    "```\n",
    "Let's see the equivalent program in Python:"
   ]
  },
  {
   "cell_type": "code",
   "execution_count": 3,
   "metadata": {},
   "outputs": [
    {
     "name": "stdout",
     "output_type": "stream",
     "text": [
      "The maximum value is 100\n"
     ]
    }
   ],
   "source": [
    "\n",
    "# ./python/m03_maximum_value.py\n",
    "\n",
    "numbers = [1, -10, 0, -5, -1000, 100, 7]\n",
    "\n",
    "maximum = numbers[0]\n",
    "\n",
    "for number in numbers:\n",
    "    if number > maximum:\n",
    "        maximum = number\n",
    "\n",
    "print(\"The maximum value is\", maximum)\n"
   ]
  },
  {
   "cell_type": "code",
   "execution_count": 4,
   "metadata": {},
   "outputs": [],
   "source": [
    "# let's play!"
   ]
  }
 ],
 "metadata": {
  "kernelspec": {
   "display_name": "Python 3",
   "language": "python",
   "name": "python3"
  },
  "language_info": {
   "codemirror_mode": {
    "name": "ipython",
    "version": 3
   },
   "file_extension": ".py",
   "mimetype": "text/x-python",
   "name": "python",
   "nbconvert_exporter": "python",
   "pygments_lexer": "ipython3",
   "version": "3.9.2"
  },
  "orig_nbformat": 4
 },
 "nbformat": 4,
 "nbformat_minor": 2
}
